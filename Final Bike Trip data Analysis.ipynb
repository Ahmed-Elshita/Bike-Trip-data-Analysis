{
 "cells": [
  {
   "cell_type": "markdown",
   "metadata": {},
   "source": [
    "Data Link: https://drive.google.com/file/d/183FL11NrrDNz7Jj8JwWjkYoDzi3AMF4N/view?usp=drivesdk"
   ]
  },
  {
   "cell_type": "code",
   "execution_count": 162,
   "metadata": {},
   "outputs": [],
   "source": [
    "import pandas as pd \n",
    "import numpy as np\n",
    "import matplotlib.pyplot as plt\n",
    "import seaborn as sns"
   ]
  },
  {
   "cell_type": "code",
   "execution_count": 2,
   "metadata": {
    "scrolled": true
   },
   "outputs": [
    {
     "data": {
      "text/html": [
       "<div>\n",
       "<style scoped>\n",
       "    .dataframe tbody tr th:only-of-type {\n",
       "        vertical-align: middle;\n",
       "    }\n",
       "\n",
       "    .dataframe tbody tr th {\n",
       "        vertical-align: top;\n",
       "    }\n",
       "\n",
       "    .dataframe thead th {\n",
       "        text-align: right;\n",
       "    }\n",
       "</style>\n",
       "<table border=\"1\" class=\"dataframe\">\n",
       "  <thead>\n",
       "    <tr style=\"text-align: right;\">\n",
       "      <th></th>\n",
       "      <th>ride_id</th>\n",
       "      <th>rideable_type</th>\n",
       "      <th>started_at</th>\n",
       "      <th>ended_at</th>\n",
       "      <th>start_station_name</th>\n",
       "      <th>start_station_id</th>\n",
       "      <th>end_station_name</th>\n",
       "      <th>end_station_id</th>\n",
       "      <th>start_lat</th>\n",
       "      <th>start_lng</th>\n",
       "      <th>end_lat</th>\n",
       "      <th>end_lng</th>\n",
       "      <th>member_casual</th>\n",
       "      <th>day_week_start</th>\n",
       "      <th>duration</th>\n",
       "      <th>distance</th>\n",
       "    </tr>\n",
       "  </thead>\n",
       "  <tbody>\n",
       "    <tr>\n",
       "      <td>0</td>\n",
       "      <td>000001004784CD35</td>\n",
       "      <td>docked_bike</td>\n",
       "      <td>2020-07-22 15:38:23</td>\n",
       "      <td>2020-07-22 15:56:47</td>\n",
       "      <td>Wolcott (Ravenswood) Ave &amp; Montrose Ave</td>\n",
       "      <td>238</td>\n",
       "      <td>Southport Ave &amp; Clybourn Ave</td>\n",
       "      <td>307</td>\n",
       "      <td>41.961406</td>\n",
       "      <td>-87.676169</td>\n",
       "      <td>41.920771</td>\n",
       "      <td>-87.663712</td>\n",
       "      <td>casual</td>\n",
       "      <td>4.0</td>\n",
       "      <td>1824.0</td>\n",
       "      <td>42501.53</td>\n",
       "    </tr>\n",
       "    <tr>\n",
       "      <td>1</td>\n",
       "      <td>000002EBE159AE82</td>\n",
       "      <td>electric_bike</td>\n",
       "      <td>2021-06-22 17:25:15</td>\n",
       "      <td>2021-06-22 17:31:34</td>\n",
       "      <td>Clinton St &amp; Jackson Blvd</td>\n",
       "      <td>638</td>\n",
       "      <td>Milwaukee Ave &amp; Grand Ave</td>\n",
       "      <td>13033</td>\n",
       "      <td>41.878261</td>\n",
       "      <td>-87.641155</td>\n",
       "      <td>41.891495</td>\n",
       "      <td>-87.648179</td>\n",
       "      <td>member</td>\n",
       "      <td>3.0</td>\n",
       "      <td>619.0</td>\n",
       "      <td>14982.48</td>\n",
       "    </tr>\n",
       "    <tr>\n",
       "      <td>2</td>\n",
       "      <td>00000550C665101A</td>\n",
       "      <td>docked_bike</td>\n",
       "      <td>2020-06-06 15:20:01</td>\n",
       "      <td>2020-06-06 16:28:09</td>\n",
       "      <td>Sheffield Ave &amp; Waveland Ave</td>\n",
       "      <td>114</td>\n",
       "      <td>Kedzie Ave &amp; Milwaukee Ave</td>\n",
       "      <td>260</td>\n",
       "      <td>41.949399</td>\n",
       "      <td>-87.654529</td>\n",
       "      <td>41.929567</td>\n",
       "      <td>-87.707857</td>\n",
       "      <td>casual</td>\n",
       "      <td>7.0</td>\n",
       "      <td>10808.0</td>\n",
       "      <td>56896.25</td>\n",
       "    </tr>\n",
       "    <tr>\n",
       "      <td>3</td>\n",
       "      <td>0000127970C84F62</td>\n",
       "      <td>docked_bike</td>\n",
       "      <td>2020-05-30 06:36:36</td>\n",
       "      <td>2020-05-30 06:55:28</td>\n",
       "      <td>Green St &amp; Madison St</td>\n",
       "      <td>198</td>\n",
       "      <td>Wells St &amp; Concord Ln</td>\n",
       "      <td>289</td>\n",
       "      <td>41.881900</td>\n",
       "      <td>-87.648800</td>\n",
       "      <td>41.912100</td>\n",
       "      <td>-87.634700</td>\n",
       "      <td>member</td>\n",
       "      <td>7.0</td>\n",
       "      <td>1892.0</td>\n",
       "      <td>33329.42</td>\n",
       "    </tr>\n",
       "    <tr>\n",
       "      <td>4</td>\n",
       "      <td>00001A81D056B01B</td>\n",
       "      <td>classic_bike</td>\n",
       "      <td>2021-04-14 08:10:11</td>\n",
       "      <td>2021-04-14 08:19:14</td>\n",
       "      <td>Wood St &amp; Hubbard St</td>\n",
       "      <td>13432</td>\n",
       "      <td>Morgan St &amp; Lake St</td>\n",
       "      <td>TA1306000015</td>\n",
       "      <td>41.889899</td>\n",
       "      <td>-87.671473</td>\n",
       "      <td>41.885483</td>\n",
       "      <td>-87.652305</td>\n",
       "      <td>member</td>\n",
       "      <td>4.0</td>\n",
       "      <td>903.0</td>\n",
       "      <td>19670.18</td>\n",
       "    </tr>\n",
       "  </tbody>\n",
       "</table>\n",
       "</div>"
      ],
      "text/plain": [
       "            ride_id  rideable_type           started_at             ended_at  \\\n",
       "0  000001004784CD35    docked_bike  2020-07-22 15:38:23  2020-07-22 15:56:47   \n",
       "1  000002EBE159AE82  electric_bike  2021-06-22 17:25:15  2021-06-22 17:31:34   \n",
       "2  00000550C665101A    docked_bike  2020-06-06 15:20:01  2020-06-06 16:28:09   \n",
       "3  0000127970C84F62    docked_bike  2020-05-30 06:36:36  2020-05-30 06:55:28   \n",
       "4  00001A81D056B01B   classic_bike  2021-04-14 08:10:11  2021-04-14 08:19:14   \n",
       "\n",
       "                        start_station_name start_station_id  \\\n",
       "0  Wolcott (Ravenswood) Ave & Montrose Ave              238   \n",
       "1                Clinton St & Jackson Blvd              638   \n",
       "2             Sheffield Ave & Waveland Ave              114   \n",
       "3                    Green St & Madison St              198   \n",
       "4                     Wood St & Hubbard St            13432   \n",
       "\n",
       "               end_station_name end_station_id  start_lat  start_lng  \\\n",
       "0  Southport Ave & Clybourn Ave            307  41.961406 -87.676169   \n",
       "1     Milwaukee Ave & Grand Ave          13033  41.878261 -87.641155   \n",
       "2    Kedzie Ave & Milwaukee Ave            260  41.949399 -87.654529   \n",
       "3         Wells St & Concord Ln            289  41.881900 -87.648800   \n",
       "4           Morgan St & Lake St   TA1306000015  41.889899 -87.671473   \n",
       "\n",
       "     end_lat    end_lng member_casual  day_week_start  duration  distance  \n",
       "0  41.920771 -87.663712        casual             4.0    1824.0  42501.53  \n",
       "1  41.891495 -87.648179        member             3.0     619.0  14982.48  \n",
       "2  41.929567 -87.707857        casual             7.0   10808.0  56896.25  \n",
       "3  41.912100 -87.634700        member             7.0    1892.0  33329.42  \n",
       "4  41.885483 -87.652305        member             4.0     903.0  19670.18  "
      ]
     },
     "execution_count": 2,
     "metadata": {},
     "output_type": "execute_result"
    }
   ],
   "source": [
    "df = pd.read_csv('final_tripdata.csv')\n",
    "df.head()"
   ]
  },
  {
   "cell_type": "code",
   "execution_count": 3,
   "metadata": {},
   "outputs": [
    {
     "name": "stdout",
     "output_type": "stream",
     "text": [
      "<class 'pandas.core.frame.DataFrame'>\n",
      "RangeIndex: 5515094 entries, 0 to 5515093\n",
      "Data columns (total 16 columns):\n",
      "ride_id               object\n",
      "rideable_type         object\n",
      "started_at            object\n",
      "ended_at              object\n",
      "start_station_name    object\n",
      "start_station_id      object\n",
      "end_station_name      object\n",
      "end_station_id        object\n",
      "start_lat             float64\n",
      "start_lng             float64\n",
      "end_lat               float64\n",
      "end_lng               float64\n",
      "member_casual         object\n",
      "day_week_start        float64\n",
      "duration              float64\n",
      "distance              float64\n",
      "dtypes: float64(7), object(9)\n",
      "memory usage: 673.2+ MB\n"
     ]
    }
   ],
   "source": [
    "df.info()"
   ]
  },
  {
   "cell_type": "code",
   "execution_count": 4,
   "metadata": {},
   "outputs": [
    {
     "data": {
      "text/html": [
       "<div>\n",
       "<style scoped>\n",
       "    .dataframe tbody tr th:only-of-type {\n",
       "        vertical-align: middle;\n",
       "    }\n",
       "\n",
       "    .dataframe tbody tr th {\n",
       "        vertical-align: top;\n",
       "    }\n",
       "\n",
       "    .dataframe thead th {\n",
       "        text-align: right;\n",
       "    }\n",
       "</style>\n",
       "<table border=\"1\" class=\"dataframe\">\n",
       "  <thead>\n",
       "    <tr style=\"text-align: right;\">\n",
       "      <th></th>\n",
       "      <th>start_lat</th>\n",
       "      <th>start_lng</th>\n",
       "      <th>end_lat</th>\n",
       "      <th>end_lng</th>\n",
       "      <th>day_week_start</th>\n",
       "      <th>duration</th>\n",
       "      <th>distance</th>\n",
       "    </tr>\n",
       "  </thead>\n",
       "  <tbody>\n",
       "    <tr>\n",
       "      <td>count</td>\n",
       "      <td>5.515093e+06</td>\n",
       "      <td>5.515093e+06</td>\n",
       "      <td>5.515093e+06</td>\n",
       "      <td>5.515093e+06</td>\n",
       "      <td>5.515093e+06</td>\n",
       "      <td>5.515093e+06</td>\n",
       "      <td>5.515093e+06</td>\n",
       "    </tr>\n",
       "    <tr>\n",
       "      <td>mean</td>\n",
       "      <td>4.190315e+01</td>\n",
       "      <td>-8.764471e+01</td>\n",
       "      <td>4.185652e+01</td>\n",
       "      <td>-8.754684e+01</td>\n",
       "      <td>4.118620e+00</td>\n",
       "      <td>5.689855e+04</td>\n",
       "      <td>2.214353e+04</td>\n",
       "    </tr>\n",
       "    <tr>\n",
       "      <td>std</td>\n",
       "      <td>4.340901e-02</td>\n",
       "      <td>2.572918e-02</td>\n",
       "      <td>1.402031e+00</td>\n",
       "      <td>2.931182e+00</td>\n",
       "      <td>2.078758e+00</td>\n",
       "      <td>1.565186e+07</td>\n",
       "      <td>1.950866e+04</td>\n",
       "    </tr>\n",
       "    <tr>\n",
       "      <td>min</td>\n",
       "      <td>4.164000e+01</td>\n",
       "      <td>-8.787000e+01</td>\n",
       "      <td>0.000000e+00</td>\n",
       "      <td>-8.807000e+01</td>\n",
       "      <td>1.000000e+00</td>\n",
       "      <td>-9.004100e+07</td>\n",
       "      <td>-1.000000e+00</td>\n",
       "    </tr>\n",
       "    <tr>\n",
       "      <td>25%</td>\n",
       "      <td>4.188210e+01</td>\n",
       "      <td>-8.765875e+01</td>\n",
       "      <td>4.188213e+01</td>\n",
       "      <td>-8.765888e+01</td>\n",
       "      <td>2.000000e+00</td>\n",
       "      <td>7.970000e+02</td>\n",
       "      <td>9.071290e+03</td>\n",
       "    </tr>\n",
       "    <tr>\n",
       "      <td>50%</td>\n",
       "      <td>4.189888e+01</td>\n",
       "      <td>-8.764109e+01</td>\n",
       "      <td>4.189897e+01</td>\n",
       "      <td>-8.764120e+01</td>\n",
       "      <td>4.000000e+00</td>\n",
       "      <td>1.637000e+03</td>\n",
       "      <td>1.710205e+04</td>\n",
       "    </tr>\n",
       "    <tr>\n",
       "      <td>75%</td>\n",
       "      <td>4.192914e+01</td>\n",
       "      <td>-8.762772e+01</td>\n",
       "      <td>4.192952e+01</td>\n",
       "      <td>-8.762773e+01</td>\n",
       "      <td>6.000000e+00</td>\n",
       "      <td>5.390000e+03</td>\n",
       "      <td>3.023253e+04</td>\n",
       "    </tr>\n",
       "    <tr>\n",
       "      <td>max</td>\n",
       "      <td>4.208000e+01</td>\n",
       "      <td>-8.752000e+01</td>\n",
       "      <td>4.216000e+01</td>\n",
       "      <td>0.000000e+00</td>\n",
       "      <td>7.000000e+00</td>\n",
       "      <td>8.875942e+09</td>\n",
       "      <td>4.494231e+05</td>\n",
       "    </tr>\n",
       "  </tbody>\n",
       "</table>\n",
       "</div>"
      ],
      "text/plain": [
       "          start_lat     start_lng       end_lat       end_lng  day_week_start  \\\n",
       "count  5.515093e+06  5.515093e+06  5.515093e+06  5.515093e+06    5.515093e+06   \n",
       "mean   4.190315e+01 -8.764471e+01  4.185652e+01 -8.754684e+01    4.118620e+00   \n",
       "std    4.340901e-02  2.572918e-02  1.402031e+00  2.931182e+00    2.078758e+00   \n",
       "min    4.164000e+01 -8.787000e+01  0.000000e+00 -8.807000e+01    1.000000e+00   \n",
       "25%    4.188210e+01 -8.765875e+01  4.188213e+01 -8.765888e+01    2.000000e+00   \n",
       "50%    4.189888e+01 -8.764109e+01  4.189897e+01 -8.764120e+01    4.000000e+00   \n",
       "75%    4.192914e+01 -8.762772e+01  4.192952e+01 -8.762773e+01    6.000000e+00   \n",
       "max    4.208000e+01 -8.752000e+01  4.216000e+01  0.000000e+00    7.000000e+00   \n",
       "\n",
       "           duration      distance  \n",
       "count  5.515093e+06  5.515093e+06  \n",
       "mean   5.689855e+04  2.214353e+04  \n",
       "std    1.565186e+07  1.950866e+04  \n",
       "min   -9.004100e+07 -1.000000e+00  \n",
       "25%    7.970000e+02  9.071290e+03  \n",
       "50%    1.637000e+03  1.710205e+04  \n",
       "75%    5.390000e+03  3.023253e+04  \n",
       "max    8.875942e+09  4.494231e+05  "
      ]
     },
     "execution_count": 4,
     "metadata": {},
     "output_type": "execute_result"
    }
   ],
   "source": [
    "df.describe()"
   ]
  },
  {
   "cell_type": "code",
   "execution_count": 5,
   "metadata": {},
   "outputs": [
    {
     "data": {
      "text/plain": [
       "ride_id                    0\n",
       "rideable_type              1\n",
       "started_at                 1\n",
       "ended_at                   1\n",
       "start_station_name    282069\n",
       "start_station_id      282695\n",
       "end_station_name      315999\n",
       "end_station_id        316460\n",
       "start_lat                  1\n",
       "start_lng                  1\n",
       "end_lat                    1\n",
       "end_lng                    1\n",
       "member_casual              1\n",
       "day_week_start             1\n",
       "duration                   1\n",
       "distance                   1\n",
       "dtype: int64"
      ]
     },
     "execution_count": 5,
     "metadata": {},
     "output_type": "execute_result"
    }
   ],
   "source": [
    "df.isna().sum()"
   ]
  },
  {
   "cell_type": "code",
   "execution_count": 6,
   "metadata": {},
   "outputs": [
    {
     "data": {
      "text/html": [
       "<div>\n",
       "<style scoped>\n",
       "    .dataframe tbody tr th:only-of-type {\n",
       "        vertical-align: middle;\n",
       "    }\n",
       "\n",
       "    .dataframe tbody tr th {\n",
       "        vertical-align: top;\n",
       "    }\n",
       "\n",
       "    .dataframe thead th {\n",
       "        text-align: right;\n",
       "    }\n",
       "</style>\n",
       "<table border=\"1\" class=\"dataframe\">\n",
       "  <thead>\n",
       "    <tr style=\"text-align: right;\">\n",
       "      <th></th>\n",
       "      <th>ride_id</th>\n",
       "      <th>rideable_type</th>\n",
       "      <th>started_at</th>\n",
       "      <th>ended_at</th>\n",
       "      <th>start_station_name</th>\n",
       "      <th>start_station_id</th>\n",
       "      <th>end_station_name</th>\n",
       "      <th>end_station_id</th>\n",
       "      <th>start_lat</th>\n",
       "      <th>start_lng</th>\n",
       "      <th>end_lat</th>\n",
       "      <th>end_lng</th>\n",
       "      <th>member_casual</th>\n",
       "      <th>day_week_start</th>\n",
       "      <th>duration</th>\n",
       "      <th>distance</th>\n",
       "    </tr>\n",
       "  </thead>\n",
       "  <tbody>\n",
       "    <tr>\n",
       "      <td>0</td>\n",
       "      <td>000001004784CD35</td>\n",
       "      <td>docked_bike</td>\n",
       "      <td>2020-07-22 15:38:23</td>\n",
       "      <td>2020-07-22 15:56:47</td>\n",
       "      <td>Wolcott (Ravenswood) Ave &amp; Montrose Ave</td>\n",
       "      <td>238</td>\n",
       "      <td>Southport Ave &amp; Clybourn Ave</td>\n",
       "      <td>307</td>\n",
       "      <td>41.961406</td>\n",
       "      <td>-87.676169</td>\n",
       "      <td>41.920771</td>\n",
       "      <td>-87.663712</td>\n",
       "      <td>casual</td>\n",
       "      <td>4.0</td>\n",
       "      <td>1824.0</td>\n",
       "      <td>42501.53</td>\n",
       "    </tr>\n",
       "    <tr>\n",
       "      <td>1</td>\n",
       "      <td>000002EBE159AE82</td>\n",
       "      <td>electric_bike</td>\n",
       "      <td>2021-06-22 17:25:15</td>\n",
       "      <td>2021-06-22 17:31:34</td>\n",
       "      <td>Clinton St &amp; Jackson Blvd</td>\n",
       "      <td>638</td>\n",
       "      <td>Milwaukee Ave &amp; Grand Ave</td>\n",
       "      <td>13033</td>\n",
       "      <td>41.878261</td>\n",
       "      <td>-87.641155</td>\n",
       "      <td>41.891495</td>\n",
       "      <td>-87.648179</td>\n",
       "      <td>member</td>\n",
       "      <td>3.0</td>\n",
       "      <td>619.0</td>\n",
       "      <td>14982.48</td>\n",
       "    </tr>\n",
       "    <tr>\n",
       "      <td>2</td>\n",
       "      <td>00000550C665101A</td>\n",
       "      <td>docked_bike</td>\n",
       "      <td>2020-06-06 15:20:01</td>\n",
       "      <td>2020-06-06 16:28:09</td>\n",
       "      <td>Sheffield Ave &amp; Waveland Ave</td>\n",
       "      <td>114</td>\n",
       "      <td>Kedzie Ave &amp; Milwaukee Ave</td>\n",
       "      <td>260</td>\n",
       "      <td>41.949399</td>\n",
       "      <td>-87.654529</td>\n",
       "      <td>41.929567</td>\n",
       "      <td>-87.707857</td>\n",
       "      <td>casual</td>\n",
       "      <td>7.0</td>\n",
       "      <td>10808.0</td>\n",
       "      <td>56896.25</td>\n",
       "    </tr>\n",
       "    <tr>\n",
       "      <td>3</td>\n",
       "      <td>0000127970C84F62</td>\n",
       "      <td>docked_bike</td>\n",
       "      <td>2020-05-30 06:36:36</td>\n",
       "      <td>2020-05-30 06:55:28</td>\n",
       "      <td>Green St &amp; Madison St</td>\n",
       "      <td>198</td>\n",
       "      <td>Wells St &amp; Concord Ln</td>\n",
       "      <td>289</td>\n",
       "      <td>41.881900</td>\n",
       "      <td>-87.648800</td>\n",
       "      <td>41.912100</td>\n",
       "      <td>-87.634700</td>\n",
       "      <td>member</td>\n",
       "      <td>7.0</td>\n",
       "      <td>1892.0</td>\n",
       "      <td>33329.42</td>\n",
       "    </tr>\n",
       "    <tr>\n",
       "      <td>4</td>\n",
       "      <td>00001A81D056B01B</td>\n",
       "      <td>classic_bike</td>\n",
       "      <td>2021-04-14 08:10:11</td>\n",
       "      <td>2021-04-14 08:19:14</td>\n",
       "      <td>Wood St &amp; Hubbard St</td>\n",
       "      <td>13432</td>\n",
       "      <td>Morgan St &amp; Lake St</td>\n",
       "      <td>TA1306000015</td>\n",
       "      <td>41.889899</td>\n",
       "      <td>-87.671473</td>\n",
       "      <td>41.885483</td>\n",
       "      <td>-87.652305</td>\n",
       "      <td>member</td>\n",
       "      <td>4.0</td>\n",
       "      <td>903.0</td>\n",
       "      <td>19670.18</td>\n",
       "    </tr>\n",
       "    <tr>\n",
       "      <td>...</td>\n",
       "      <td>...</td>\n",
       "      <td>...</td>\n",
       "      <td>...</td>\n",
       "      <td>...</td>\n",
       "      <td>...</td>\n",
       "      <td>...</td>\n",
       "      <td>...</td>\n",
       "      <td>...</td>\n",
       "      <td>...</td>\n",
       "      <td>...</td>\n",
       "      <td>...</td>\n",
       "      <td>...</td>\n",
       "      <td>...</td>\n",
       "      <td>...</td>\n",
       "      <td>...</td>\n",
       "      <td>...</td>\n",
       "    </tr>\n",
       "    <tr>\n",
       "      <td>5515088</td>\n",
       "      <td>FFFFFB64C697B86A</td>\n",
       "      <td>docked_bike</td>\n",
       "      <td>2020-10-07 16:10:01</td>\n",
       "      <td>2020-10-07 16:45:28</td>\n",
       "      <td>Lake Shore Dr &amp; Wellington Ave</td>\n",
       "      <td>157</td>\n",
       "      <td>Ashland Ave &amp; Division St</td>\n",
       "      <td>210</td>\n",
       "      <td>41.936688</td>\n",
       "      <td>-87.636829</td>\n",
       "      <td>41.903450</td>\n",
       "      <td>-87.667747</td>\n",
       "      <td>member</td>\n",
       "      <td>4.0</td>\n",
       "      <td>3527.0</td>\n",
       "      <td>45394.79</td>\n",
       "    </tr>\n",
       "    <tr>\n",
       "      <td>5515089</td>\n",
       "      <td>FFFFFB6DD39792F1</td>\n",
       "      <td>docked_bike</td>\n",
       "      <td>2020-08-27 16:13:13</td>\n",
       "      <td>2020-08-27 16:43:24</td>\n",
       "      <td>McClurg Ct &amp; Erie St</td>\n",
       "      <td>142</td>\n",
       "      <td>Halsted St &amp; 18th St</td>\n",
       "      <td>202</td>\n",
       "      <td>41.894503</td>\n",
       "      <td>-87.617854</td>\n",
       "      <td>41.857499</td>\n",
       "      <td>-87.646277</td>\n",
       "      <td>member</td>\n",
       "      <td>5.0</td>\n",
       "      <td>3011.0</td>\n",
       "      <td>46660.08</td>\n",
       "    </tr>\n",
       "    <tr>\n",
       "      <td>5515090</td>\n",
       "      <td>FFFFFBF105061B9E</td>\n",
       "      <td>docked_bike</td>\n",
       "      <td>2020-06-15 08:52:25</td>\n",
       "      <td>2020-06-15 09:25:16</td>\n",
       "      <td>Avondale Ave &amp; Irving Park Rd</td>\n",
       "      <td>483</td>\n",
       "      <td>Kildare Ave &amp; Montrose Ave</td>\n",
       "      <td>630</td>\n",
       "      <td>41.953393</td>\n",
       "      <td>-87.732002</td>\n",
       "      <td>41.961080</td>\n",
       "      <td>-87.735690</td>\n",
       "      <td>member</td>\n",
       "      <td>2.0</td>\n",
       "      <td>7291.0</td>\n",
       "      <td>8525.92</td>\n",
       "    </tr>\n",
       "    <tr>\n",
       "      <td>5515091</td>\n",
       "      <td>FFFFFC1045B11550</td>\n",
       "      <td>classic_bike</td>\n",
       "      <td>2021-03-03 13:42:58</td>\n",
       "      <td>2021-03-03 14:13:13</td>\n",
       "      <td>Clark St &amp; Berwyn Ave</td>\n",
       "      <td>KA1504000146</td>\n",
       "      <td>Theater on the Lake</td>\n",
       "      <td>TA1308000001</td>\n",
       "      <td>41.977997</td>\n",
       "      <td>-87.668047</td>\n",
       "      <td>41.926277</td>\n",
       "      <td>-87.630834</td>\n",
       "      <td>member</td>\n",
       "      <td>4.0</td>\n",
       "      <td>7055.0</td>\n",
       "      <td>63716.35</td>\n",
       "    </tr>\n",
       "    <tr>\n",
       "      <td>5515092</td>\n",
       "      <td>FFFFFF0C829D3E7A</td>\n",
       "      <td>electric_bike</td>\n",
       "      <td>2021-05-03 17:04:08</td>\n",
       "      <td>2021-05-03 17:46:11</td>\n",
       "      <td>Clark St &amp; Lake St</td>\n",
       "      <td>KA1503000012</td>\n",
       "      <td>Harper Ave &amp; 59th St</td>\n",
       "      <td>KA1503000070</td>\n",
       "      <td>41.884823</td>\n",
       "      <td>-87.630814</td>\n",
       "      <td>41.787892</td>\n",
       "      <td>-87.588183</td>\n",
       "      <td>member</td>\n",
       "      <td>2.0</td>\n",
       "      <td>4203.0</td>\n",
       "      <td>105891.78</td>\n",
       "    </tr>\n",
       "  </tbody>\n",
       "</table>\n",
       "<p>5079556 rows × 16 columns</p>\n",
       "</div>"
      ],
      "text/plain": [
       "                  ride_id  rideable_type           started_at  \\\n",
       "0        000001004784CD35    docked_bike  2020-07-22 15:38:23   \n",
       "1        000002EBE159AE82  electric_bike  2021-06-22 17:25:15   \n",
       "2        00000550C665101A    docked_bike  2020-06-06 15:20:01   \n",
       "3        0000127970C84F62    docked_bike  2020-05-30 06:36:36   \n",
       "4        00001A81D056B01B   classic_bike  2021-04-14 08:10:11   \n",
       "...                   ...            ...                  ...   \n",
       "5515088  FFFFFB64C697B86A    docked_bike  2020-10-07 16:10:01   \n",
       "5515089  FFFFFB6DD39792F1    docked_bike  2020-08-27 16:13:13   \n",
       "5515090  FFFFFBF105061B9E    docked_bike  2020-06-15 08:52:25   \n",
       "5515091  FFFFFC1045B11550   classic_bike  2021-03-03 13:42:58   \n",
       "5515092  FFFFFF0C829D3E7A  electric_bike  2021-05-03 17:04:08   \n",
       "\n",
       "                    ended_at                       start_station_name  \\\n",
       "0        2020-07-22 15:56:47  Wolcott (Ravenswood) Ave & Montrose Ave   \n",
       "1        2021-06-22 17:31:34                Clinton St & Jackson Blvd   \n",
       "2        2020-06-06 16:28:09             Sheffield Ave & Waveland Ave   \n",
       "3        2020-05-30 06:55:28                    Green St & Madison St   \n",
       "4        2021-04-14 08:19:14                     Wood St & Hubbard St   \n",
       "...                      ...                                      ...   \n",
       "5515088  2020-10-07 16:45:28           Lake Shore Dr & Wellington Ave   \n",
       "5515089  2020-08-27 16:43:24                     McClurg Ct & Erie St   \n",
       "5515090  2020-06-15 09:25:16            Avondale Ave & Irving Park Rd   \n",
       "5515091  2021-03-03 14:13:13                    Clark St & Berwyn Ave   \n",
       "5515092  2021-05-03 17:46:11                       Clark St & Lake St   \n",
       "\n",
       "        start_station_id              end_station_name end_station_id  \\\n",
       "0                    238  Southport Ave & Clybourn Ave            307   \n",
       "1                    638     Milwaukee Ave & Grand Ave          13033   \n",
       "2                    114    Kedzie Ave & Milwaukee Ave            260   \n",
       "3                    198         Wells St & Concord Ln            289   \n",
       "4                  13432           Morgan St & Lake St   TA1306000015   \n",
       "...                  ...                           ...            ...   \n",
       "5515088              157     Ashland Ave & Division St            210   \n",
       "5515089              142          Halsted St & 18th St            202   \n",
       "5515090              483    Kildare Ave & Montrose Ave            630   \n",
       "5515091     KA1504000146           Theater on the Lake   TA1308000001   \n",
       "5515092     KA1503000012          Harper Ave & 59th St   KA1503000070   \n",
       "\n",
       "         start_lat  start_lng    end_lat    end_lng member_casual  \\\n",
       "0        41.961406 -87.676169  41.920771 -87.663712        casual   \n",
       "1        41.878261 -87.641155  41.891495 -87.648179        member   \n",
       "2        41.949399 -87.654529  41.929567 -87.707857        casual   \n",
       "3        41.881900 -87.648800  41.912100 -87.634700        member   \n",
       "4        41.889899 -87.671473  41.885483 -87.652305        member   \n",
       "...            ...        ...        ...        ...           ...   \n",
       "5515088  41.936688 -87.636829  41.903450 -87.667747        member   \n",
       "5515089  41.894503 -87.617854  41.857499 -87.646277        member   \n",
       "5515090  41.953393 -87.732002  41.961080 -87.735690        member   \n",
       "5515091  41.977997 -87.668047  41.926277 -87.630834        member   \n",
       "5515092  41.884823 -87.630814  41.787892 -87.588183        member   \n",
       "\n",
       "         day_week_start  duration   distance  \n",
       "0                   4.0    1824.0   42501.53  \n",
       "1                   3.0     619.0   14982.48  \n",
       "2                   7.0   10808.0   56896.25  \n",
       "3                   7.0    1892.0   33329.42  \n",
       "4                   4.0     903.0   19670.18  \n",
       "...                 ...       ...        ...  \n",
       "5515088             4.0    3527.0   45394.79  \n",
       "5515089             5.0    3011.0   46660.08  \n",
       "5515090             2.0    7291.0    8525.92  \n",
       "5515091             4.0    7055.0   63716.35  \n",
       "5515092             2.0    4203.0  105891.78  \n",
       "\n",
       "[5079556 rows x 16 columns]"
      ]
     },
     "execution_count": 6,
     "metadata": {},
     "output_type": "execute_result"
    }
   ],
   "source": [
    "df.dropna()"
   ]
  },
  {
   "cell_type": "code",
   "execution_count": 7,
   "metadata": {},
   "outputs": [
    {
     "data": {
      "text/plain": [
       "(5515094, 16)"
      ]
     },
     "execution_count": 7,
     "metadata": {},
     "output_type": "execute_result"
    }
   ],
   "source": [
    "df.shape"
   ]
  },
  {
   "cell_type": "code",
   "execution_count": 8,
   "metadata": {},
   "outputs": [],
   "source": [
    "df = df.sample(n=10000)"
   ]
  },
  {
   "cell_type": "code",
   "execution_count": 9,
   "metadata": {},
   "outputs": [],
   "source": [
    "df.to_csv('final_tripdata_new.csv')"
   ]
  },
  {
   "cell_type": "code",
   "execution_count": 10,
   "metadata": {},
   "outputs": [],
   "source": [
    "df['started_at']= pd.to_datetime(df['started_at'])"
   ]
  },
  {
   "cell_type": "code",
   "execution_count": 11,
   "metadata": {},
   "outputs": [],
   "source": [
    "df['ended_at'] = pd.to_datetime(df['ended_at'])"
   ]
  },
  {
   "cell_type": "code",
   "execution_count": 12,
   "metadata": {},
   "outputs": [
    {
     "name": "stdout",
     "output_type": "stream",
     "text": [
      "<class 'pandas.core.frame.DataFrame'>\n",
      "Int64Index: 10000 entries, 4993971 to 4405949\n",
      "Data columns (total 16 columns):\n",
      "ride_id               10000 non-null object\n",
      "rideable_type         10000 non-null object\n",
      "started_at            10000 non-null datetime64[ns]\n",
      "ended_at              10000 non-null datetime64[ns]\n",
      "start_station_name    9503 non-null object\n",
      "start_station_id      9501 non-null object\n",
      "end_station_name      9452 non-null object\n",
      "end_station_id        9450 non-null object\n",
      "start_lat             10000 non-null float64\n",
      "start_lng             10000 non-null float64\n",
      "end_lat               10000 non-null float64\n",
      "end_lng               10000 non-null float64\n",
      "member_casual         10000 non-null object\n",
      "day_week_start        10000 non-null float64\n",
      "duration              10000 non-null float64\n",
      "distance              10000 non-null float64\n",
      "dtypes: datetime64[ns](2), float64(7), object(7)\n",
      "memory usage: 1.3+ MB\n"
     ]
    }
   ],
   "source": [
    "df.info()"
   ]
  },
  {
   "cell_type": "code",
   "execution_count": 119,
   "metadata": {},
   "outputs": [],
   "source": [
    "df['ride_length'] = df['ended_at'] - df['started_at']"
   ]
  },
  {
   "cell_type": "code",
   "execution_count": 120,
   "metadata": {},
   "outputs": [],
   "source": [
    "df['ride_length_in_secounds'] = (pd.to_datetime(df['ride_length'], unit='ns', ).values.astype(np.int64) / 1000000000)\n",
    "df['ride_length_in_secounds'] = np.where(df['ride_length_in_secounds']<0 ,np.nan,df['ride_length_in_secounds'])"
   ]
  },
  {
   "cell_type": "code",
   "execution_count": 121,
   "metadata": {},
   "outputs": [],
   "source": [
    "#monday = 1 , sunday = 7\n",
    "df['day_of_week'] = df['started_at'].dt.dayofweek"
   ]
  },
  {
   "cell_type": "code",
   "execution_count": 122,
   "metadata": {},
   "outputs": [
    {
     "data": {
      "text/html": [
       "<div>\n",
       "<style scoped>\n",
       "    .dataframe tbody tr th:only-of-type {\n",
       "        vertical-align: middle;\n",
       "    }\n",
       "\n",
       "    .dataframe tbody tr th {\n",
       "        vertical-align: top;\n",
       "    }\n",
       "\n",
       "    .dataframe thead th {\n",
       "        text-align: right;\n",
       "    }\n",
       "</style>\n",
       "<table border=\"1\" class=\"dataframe\">\n",
       "  <thead>\n",
       "    <tr style=\"text-align: right;\">\n",
       "      <th></th>\n",
       "      <th>ride_id</th>\n",
       "      <th>rideable_type</th>\n",
       "      <th>started_at</th>\n",
       "      <th>ended_at</th>\n",
       "      <th>start_station_name</th>\n",
       "      <th>start_station_id</th>\n",
       "      <th>end_station_name</th>\n",
       "      <th>end_station_id</th>\n",
       "      <th>start_lat</th>\n",
       "      <th>start_lng</th>\n",
       "      <th>end_lat</th>\n",
       "      <th>end_lng</th>\n",
       "      <th>member_casual</th>\n",
       "      <th>day_week_start</th>\n",
       "      <th>duration</th>\n",
       "      <th>distance</th>\n",
       "      <th>day_of_week</th>\n",
       "      <th>ride_length</th>\n",
       "      <th>ride_length_in_secounds</th>\n",
       "    </tr>\n",
       "  </thead>\n",
       "  <tbody>\n",
       "    <tr>\n",
       "      <td>4993971</td>\n",
       "      <td>E7CC3B9C2497863F</td>\n",
       "      <td>docked_bike</td>\n",
       "      <td>2020-08-13 13:17:28</td>\n",
       "      <td>2020-08-13 13:55:29</td>\n",
       "      <td>Wells St &amp; Evergreen Ave</td>\n",
       "      <td>291</td>\n",
       "      <td>Paulina St &amp; 18th St</td>\n",
       "      <td>205</td>\n",
       "      <td>41.906724</td>\n",
       "      <td>-87.634830</td>\n",
       "      <td>41.857901</td>\n",
       "      <td>-87.668745</td>\n",
       "      <td>member</td>\n",
       "      <td>5.0</td>\n",
       "      <td>3801.0</td>\n",
       "      <td>59446.72</td>\n",
       "      <td>3</td>\n",
       "      <td>00:38:01</td>\n",
       "      <td>2281.0</td>\n",
       "    </tr>\n",
       "    <tr>\n",
       "      <td>2539858</td>\n",
       "      <td>75F3F6997F82F01C</td>\n",
       "      <td>docked_bike</td>\n",
       "      <td>2020-10-09 12:26:49</td>\n",
       "      <td>2020-10-09 12:47:34</td>\n",
       "      <td>Streeter Dr &amp; Grand Ave</td>\n",
       "      <td>35</td>\n",
       "      <td>Streeter Dr &amp; Grand Ave</td>\n",
       "      <td>35</td>\n",
       "      <td>41.892278</td>\n",
       "      <td>-87.612043</td>\n",
       "      <td>41.892278</td>\n",
       "      <td>-87.612043</td>\n",
       "      <td>casual</td>\n",
       "      <td>6.0</td>\n",
       "      <td>2085.0</td>\n",
       "      <td>0.00</td>\n",
       "      <td>4</td>\n",
       "      <td>00:20:45</td>\n",
       "      <td>1245.0</td>\n",
       "    </tr>\n",
       "    <tr>\n",
       "      <td>1084867</td>\n",
       "      <td>325DAA770EDE57ED</td>\n",
       "      <td>electric_bike</td>\n",
       "      <td>2020-11-06 17:35:06</td>\n",
       "      <td>2020-11-06 17:46:46</td>\n",
       "      <td>Sedgwick St &amp; North Ave</td>\n",
       "      <td>118</td>\n",
       "      <td>Damen Ave &amp; Pierce Ave</td>\n",
       "      <td>69</td>\n",
       "      <td>41.911304</td>\n",
       "      <td>-87.638627</td>\n",
       "      <td>41.909463</td>\n",
       "      <td>-87.677480</td>\n",
       "      <td>casual</td>\n",
       "      <td>6.0</td>\n",
       "      <td>1140.0</td>\n",
       "      <td>38895.91</td>\n",
       "      <td>4</td>\n",
       "      <td>00:11:40</td>\n",
       "      <td>700.0</td>\n",
       "    </tr>\n",
       "    <tr>\n",
       "      <td>5202426</td>\n",
       "      <td>F17EA7F23A221021</td>\n",
       "      <td>electric_bike</td>\n",
       "      <td>2021-06-15 00:28:30</td>\n",
       "      <td>2021-06-15 01:00:47</td>\n",
       "      <td>Desplaines St &amp; Randolph St</td>\n",
       "      <td>15535</td>\n",
       "      <td>Kedzie Ave &amp; Bryn Mawr Ave</td>\n",
       "      <td>KA1504000167</td>\n",
       "      <td>41.884528</td>\n",
       "      <td>-87.644460</td>\n",
       "      <td>41.982302</td>\n",
       "      <td>-87.708913</td>\n",
       "      <td>member</td>\n",
       "      <td>3.0</td>\n",
       "      <td>7217.0</td>\n",
       "      <td>117106.31</td>\n",
       "      <td>1</td>\n",
       "      <td>00:32:17</td>\n",
       "      <td>1937.0</td>\n",
       "    </tr>\n",
       "    <tr>\n",
       "      <td>2241145</td>\n",
       "      <td>68163A1203766B61</td>\n",
       "      <td>classic_bike</td>\n",
       "      <td>2021-05-30 13:36:56</td>\n",
       "      <td>2021-05-30 13:43:25</td>\n",
       "      <td>Woodlawn Ave &amp; 55th St</td>\n",
       "      <td>TA1307000164</td>\n",
       "      <td>Blackstone Ave &amp; Hyde Park Blvd</td>\n",
       "      <td>13398</td>\n",
       "      <td>41.795264</td>\n",
       "      <td>-87.596471</td>\n",
       "      <td>41.802562</td>\n",
       "      <td>-87.590368</td>\n",
       "      <td>member</td>\n",
       "      <td>1.0</td>\n",
       "      <td>669.0</td>\n",
       "      <td>9513.54</td>\n",
       "      <td>6</td>\n",
       "      <td>00:06:29</td>\n",
       "      <td>389.0</td>\n",
       "    </tr>\n",
       "  </tbody>\n",
       "</table>\n",
       "</div>"
      ],
      "text/plain": [
       "                  ride_id  rideable_type          started_at  \\\n",
       "4993971  E7CC3B9C2497863F    docked_bike 2020-08-13 13:17:28   \n",
       "2539858  75F3F6997F82F01C    docked_bike 2020-10-09 12:26:49   \n",
       "1084867  325DAA770EDE57ED  electric_bike 2020-11-06 17:35:06   \n",
       "5202426  F17EA7F23A221021  electric_bike 2021-06-15 00:28:30   \n",
       "2241145  68163A1203766B61   classic_bike 2021-05-30 13:36:56   \n",
       "\n",
       "                   ended_at           start_station_name start_station_id  \\\n",
       "4993971 2020-08-13 13:55:29     Wells St & Evergreen Ave              291   \n",
       "2539858 2020-10-09 12:47:34      Streeter Dr & Grand Ave               35   \n",
       "1084867 2020-11-06 17:46:46      Sedgwick St & North Ave              118   \n",
       "5202426 2021-06-15 01:00:47  Desplaines St & Randolph St            15535   \n",
       "2241145 2021-05-30 13:43:25       Woodlawn Ave & 55th St     TA1307000164   \n",
       "\n",
       "                        end_station_name end_station_id  start_lat  start_lng  \\\n",
       "4993971             Paulina St & 18th St            205  41.906724 -87.634830   \n",
       "2539858          Streeter Dr & Grand Ave             35  41.892278 -87.612043   \n",
       "1084867           Damen Ave & Pierce Ave             69  41.911304 -87.638627   \n",
       "5202426       Kedzie Ave & Bryn Mawr Ave   KA1504000167  41.884528 -87.644460   \n",
       "2241145  Blackstone Ave & Hyde Park Blvd          13398  41.795264 -87.596471   \n",
       "\n",
       "           end_lat    end_lng member_casual  day_week_start  duration  \\\n",
       "4993971  41.857901 -87.668745        member             5.0    3801.0   \n",
       "2539858  41.892278 -87.612043        casual             6.0    2085.0   \n",
       "1084867  41.909463 -87.677480        casual             6.0    1140.0   \n",
       "5202426  41.982302 -87.708913        member             3.0    7217.0   \n",
       "2241145  41.802562 -87.590368        member             1.0     669.0   \n",
       "\n",
       "          distance  day_of_week ride_length  ride_length_in_secounds  \n",
       "4993971   59446.72            3    00:38:01                   2281.0  \n",
       "2539858       0.00            4    00:20:45                   1245.0  \n",
       "1084867   38895.91            4    00:11:40                    700.0  \n",
       "5202426  117106.31            1    00:32:17                   1937.0  \n",
       "2241145    9513.54            6    00:06:29                    389.0  "
      ]
     },
     "execution_count": 122,
     "metadata": {},
     "output_type": "execute_result"
    }
   ],
   "source": [
    "df.head()"
   ]
  },
  {
   "cell_type": "code",
   "execution_count": 123,
   "metadata": {},
   "outputs": [
    {
     "name": "stdout",
     "output_type": "stream",
     "text": [
      "<class 'pandas.core.frame.DataFrame'>\n",
      "Int64Index: 9228 entries, 4993971 to 4405949\n",
      "Data columns (total 19 columns):\n",
      "ride_id                    9228 non-null object\n",
      "rideable_type              9228 non-null object\n",
      "started_at                 9228 non-null datetime64[ns]\n",
      "ended_at                   9228 non-null datetime64[ns]\n",
      "start_station_name         9228 non-null object\n",
      "start_station_id           9228 non-null object\n",
      "end_station_name           9228 non-null object\n",
      "end_station_id             9228 non-null object\n",
      "start_lat                  9228 non-null float64\n",
      "start_lng                  9228 non-null float64\n",
      "end_lat                    9228 non-null float64\n",
      "end_lng                    9228 non-null float64\n",
      "member_casual              9228 non-null category\n",
      "day_week_start             9228 non-null float64\n",
      "duration                   9228 non-null float64\n",
      "distance                   9228 non-null float64\n",
      "day_of_week                9228 non-null int64\n",
      "ride_length                9228 non-null timedelta64[ns]\n",
      "ride_length_in_secounds    9209 non-null float64\n",
      "dtypes: category(1), datetime64[ns](2), float64(8), int64(1), object(6), timedelta64[ns](1)\n",
      "memory usage: 1.3+ MB\n"
     ]
    }
   ],
   "source": [
    "df.info()"
   ]
  },
  {
   "cell_type": "code",
   "execution_count": 124,
   "metadata": {},
   "outputs": [
    {
     "data": {
      "text/plain": [
       "ride_id                     0\n",
       "rideable_type               0\n",
       "started_at                  0\n",
       "ended_at                    0\n",
       "start_station_name          0\n",
       "start_station_id            0\n",
       "end_station_name            0\n",
       "end_station_id              0\n",
       "start_lat                   0\n",
       "start_lng                   0\n",
       "end_lat                     0\n",
       "end_lng                     0\n",
       "member_casual               0\n",
       "day_week_start              0\n",
       "duration                    0\n",
       "distance                    0\n",
       "day_of_week                 0\n",
       "ride_length                 0\n",
       "ride_length_in_secounds    19\n",
       "dtype: int64"
      ]
     },
     "execution_count": 124,
     "metadata": {},
     "output_type": "execute_result"
    }
   ],
   "source": [
    "df.isna().sum()"
   ]
  },
  {
   "cell_type": "code",
   "execution_count": 125,
   "metadata": {},
   "outputs": [],
   "source": [
    "df = df.dropna()"
   ]
  },
  {
   "cell_type": "code",
   "execution_count": 126,
   "metadata": {},
   "outputs": [
    {
     "data": {
      "text/plain": [
       "ride_id                    0\n",
       "rideable_type              0\n",
       "started_at                 0\n",
       "ended_at                   0\n",
       "start_station_name         0\n",
       "start_station_id           0\n",
       "end_station_name           0\n",
       "end_station_id             0\n",
       "start_lat                  0\n",
       "start_lng                  0\n",
       "end_lat                    0\n",
       "end_lng                    0\n",
       "member_casual              0\n",
       "day_week_start             0\n",
       "duration                   0\n",
       "distance                   0\n",
       "day_of_week                0\n",
       "ride_length                0\n",
       "ride_length_in_secounds    0\n",
       "dtype: int64"
      ]
     },
     "execution_count": 126,
     "metadata": {},
     "output_type": "execute_result"
    }
   ],
   "source": [
    "df.isna().sum()"
   ]
  },
  {
   "cell_type": "code",
   "execution_count": 182,
   "metadata": {},
   "outputs": [],
   "source": [
    "df['member_casual'] = df['member_casual'].astype('category')"
   ]
  },
  {
   "cell_type": "code",
   "execution_count": 184,
   "metadata": {},
   "outputs": [],
   "source": [
    "df['day_of_week'] = df['day_of_week'].astype('category')"
   ]
  },
  {
   "cell_type": "code",
   "execution_count": 146,
   "metadata": {},
   "outputs": [],
   "source": [
    "df['rideable_type'] = df['rideable_type'].astype('category')"
   ]
  },
  {
   "cell_type": "markdown",
   "metadata": {},
   "source": [
    "# How do annual members and casual riders use Cyclistic bikes differently"
   ]
  },
  {
   "cell_type": "code",
   "execution_count": 129,
   "metadata": {},
   "outputs": [],
   "source": [
    "member_casual_count=df['member_casual'].value_counts()"
   ]
  },
  {
   "cell_type": "code",
   "execution_count": 130,
   "metadata": {},
   "outputs": [],
   "source": [
    "member_casual_counts = pd.DataFrame(member_casual_count)"
   ]
  },
  {
   "cell_type": "code",
   "execution_count": 131,
   "metadata": {},
   "outputs": [
    {
     "data": {
      "text/html": [
       "<div>\n",
       "<style scoped>\n",
       "    .dataframe tbody tr th:only-of-type {\n",
       "        vertical-align: middle;\n",
       "    }\n",
       "\n",
       "    .dataframe tbody tr th {\n",
       "        vertical-align: top;\n",
       "    }\n",
       "\n",
       "    .dataframe thead th {\n",
       "        text-align: right;\n",
       "    }\n",
       "</style>\n",
       "<table border=\"1\" class=\"dataframe\">\n",
       "  <thead>\n",
       "    <tr style=\"text-align: right;\">\n",
       "      <th></th>\n",
       "      <th>member_casual</th>\n",
       "    </tr>\n",
       "  </thead>\n",
       "  <tbody>\n",
       "    <tr>\n",
       "      <td>member</td>\n",
       "      <td>5591</td>\n",
       "    </tr>\n",
       "    <tr>\n",
       "      <td>casual</td>\n",
       "      <td>3618</td>\n",
       "    </tr>\n",
       "  </tbody>\n",
       "</table>\n",
       "</div>"
      ],
      "text/plain": [
       "        member_casual\n",
       "member           5591\n",
       "casual           3618"
      ]
     },
     "execution_count": 131,
     "metadata": {},
     "output_type": "execute_result"
    }
   ],
   "source": [
    "member_casual_counts"
   ]
  },
  {
   "cell_type": "code",
   "execution_count": 132,
   "metadata": {},
   "outputs": [
    {
     "data": {
      "image/png": "[encoded data removed]",
      "text/plain": [
       "<Figure size 432x288 with 1 Axes>"
      ]
     },
     "metadata": {},
     "output_type": "display_data"
    }
   ],
   "source": [
    "plt.pie(member_casual_counts.member_casual ,labels = member_casual_counts.index  , explode=[0,0.05])\n",
    "plt.title('member_casual_counts')\n",
    "plt.show()"
   ]
  },
  {
   "cell_type": "code",
   "execution_count": 133,
   "metadata": {},
   "outputs": [],
   "source": [
    "member_casual_average_ride_length = df.groupby('member_casual')['ride_length_in_secounds'].mean()"
   ]
  },
  {
   "cell_type": "code",
   "execution_count": 134,
   "metadata": {},
   "outputs": [
    {
     "data": {
      "text/html": [
       "<div>\n",
       "<style scoped>\n",
       "    .dataframe tbody tr th:only-of-type {\n",
       "        vertical-align: middle;\n",
       "    }\n",
       "\n",
       "    .dataframe tbody tr th {\n",
       "        vertical-align: top;\n",
       "    }\n",
       "\n",
       "    .dataframe thead th {\n",
       "        text-align: right;\n",
       "    }\n",
       "</style>\n",
       "<table border=\"1\" class=\"dataframe\">\n",
       "  <thead>\n",
       "    <tr style=\"text-align: right;\">\n",
       "      <th></th>\n",
       "      <th>ride_length_in_secounds</th>\n",
       "    </tr>\n",
       "    <tr>\n",
       "      <th>member_casual</th>\n",
       "      <th></th>\n",
       "    </tr>\n",
       "  </thead>\n",
       "  <tbody>\n",
       "    <tr>\n",
       "      <td>casual</td>\n",
       "      <td>2145.489773</td>\n",
       "    </tr>\n",
       "    <tr>\n",
       "      <td>member</td>\n",
       "      <td>896.011447</td>\n",
       "    </tr>\n",
       "  </tbody>\n",
       "</table>\n",
       "</div>"
      ],
      "text/plain": [
       "               ride_length_in_secounds\n",
       "member_casual                         \n",
       "casual                     2145.489773\n",
       "member                      896.011447"
      ]
     },
     "execution_count": 134,
     "metadata": {},
     "output_type": "execute_result"
    }
   ],
   "source": [
    "member_casual_average_ride_length_time = pd.DataFrame(member_casual_average_ride_length)\n",
    "member_casual_average_ride_length_time"
   ]
  },
  {
   "cell_type": "code",
   "execution_count": 135,
   "metadata": {},
   "outputs": [
    {
     "data": {
      "image/png": "[encoded data removed]",
      "text/plain": [
       "<Figure size 432x288 with 1 Axes>"
      ]
     },
     "metadata": {},
     "output_type": "display_data"
    }
   ],
   "source": [
    "plt.pie(member_casual_average_ride_length_time.ride_length_in_secounds ,labels = member_casual_average_ride_length_time.index  , explode=[0,0.05])\n",
    "plt.title('member_casual_average_ride_length_time')\n",
    "plt.show()"
   ]
  },
  {
   "cell_type": "code",
   "execution_count": 136,
   "metadata": {},
   "outputs": [
    {
     "data": {
      "text/html": [
       "<div>\n",
       "<style scoped>\n",
       "    .dataframe tbody tr th:only-of-type {\n",
       "        vertical-align: middle;\n",
       "    }\n",
       "\n",
       "    .dataframe tbody tr th {\n",
       "        vertical-align: top;\n",
       "    }\n",
       "\n",
       "    .dataframe thead tr th {\n",
       "        text-align: left;\n",
       "    }\n",
       "\n",
       "    .dataframe thead tr:last-of-type th {\n",
       "        text-align: right;\n",
       "    }\n",
       "</style>\n",
       "<table border=\"1\" class=\"dataframe\">\n",
       "  <thead>\n",
       "    <tr>\n",
       "      <th></th>\n",
       "      <th colspan=\"7\" halign=\"left\">mean</th>\n",
       "    </tr>\n",
       "    <tr>\n",
       "      <th>day_of_week</th>\n",
       "      <th>0</th>\n",
       "      <th>1</th>\n",
       "      <th>2</th>\n",
       "      <th>3</th>\n",
       "      <th>4</th>\n",
       "      <th>5</th>\n",
       "      <th>6</th>\n",
       "    </tr>\n",
       "    <tr>\n",
       "      <th>member_casual</th>\n",
       "      <th></th>\n",
       "      <th></th>\n",
       "      <th></th>\n",
       "      <th></th>\n",
       "      <th></th>\n",
       "      <th></th>\n",
       "      <th></th>\n",
       "    </tr>\n",
       "  </thead>\n",
       "  <tbody>\n",
       "    <tr>\n",
       "      <td>casual</td>\n",
       "      <td>1716.870787</td>\n",
       "      <td>2513.768595</td>\n",
       "      <td>1718.940568</td>\n",
       "      <td>1981.175743</td>\n",
       "      <td>2181.352840</td>\n",
       "      <td>2115.056627</td>\n",
       "      <td>2511.032999</td>\n",
       "    </tr>\n",
       "    <tr>\n",
       "      <td>member</td>\n",
       "      <td>846.132484</td>\n",
       "      <td>838.459459</td>\n",
       "      <td>757.813317</td>\n",
       "      <td>963.739744</td>\n",
       "      <td>938.560945</td>\n",
       "      <td>1001.229346</td>\n",
       "      <td>940.499305</td>\n",
       "    </tr>\n",
       "  </tbody>\n",
       "</table>\n",
       "</div>"
      ],
      "text/plain": [
       "                      mean                                         \\\n",
       "day_of_week              0            1            2            3   \n",
       "member_casual                                                       \n",
       "casual         1716.870787  2513.768595  1718.940568  1981.175743   \n",
       "member          846.132484   838.459459   757.813317   963.739744   \n",
       "\n",
       "                                                      \n",
       "day_of_week              4            5            6  \n",
       "member_casual                                         \n",
       "casual         2181.352840  2115.056627  2511.032999  \n",
       "member          938.560945  1001.229346   940.499305  "
      ]
     },
     "execution_count": 136,
     "metadata": {},
     "output_type": "execute_result"
    }
   ],
   "source": [
    "tabel =df.pivot_table(index = 'member_casual' , columns='day_of_week',values = 'ride_length_in_secounds', aggfunc=['mean'])\n",
    "tabel"
   ]
  },
  {
   "cell_type": "code",
   "execution_count": 142,
   "metadata": {},
   "outputs": [
    {
     "data": {
      "image/png": "[encoded data removed]",
      "text/plain": [
       "<Figure size 720x288 with 1 Axes>"
      ]
     },
     "metadata": {
      "needs_background": "light"
     },
     "output_type": "display_data"
    }
   ],
   "source": [
    "tabel.plot(kind = 'bar' , figsize=(10,4))\n",
    "plt.title('member casual average ride length time on day')\n",
    "plt.legend(['Monday','Tuesday' , 'Wednesday' , 'Thursday', 'Friday','Saturday','Sunday'])\n",
    "plt.ylabel('average ride length time')\n",
    "plt.show()"
   ]
  },
  {
   "cell_type": "code",
   "execution_count": 143,
   "metadata": {},
   "outputs": [
    {
     "data": {
      "text/html": [
       "<div>\n",
       "<style scoped>\n",
       "    .dataframe tbody tr th:only-of-type {\n",
       "        vertical-align: middle;\n",
       "    }\n",
       "\n",
       "    .dataframe tbody tr th {\n",
       "        vertical-align: top;\n",
       "    }\n",
       "\n",
       "    .dataframe thead tr th {\n",
       "        text-align: left;\n",
       "    }\n",
       "\n",
       "    .dataframe thead tr:last-of-type th {\n",
       "        text-align: right;\n",
       "    }\n",
       "</style>\n",
       "<table border=\"1\" class=\"dataframe\">\n",
       "  <thead>\n",
       "    <tr>\n",
       "      <th></th>\n",
       "      <th colspan=\"7\" halign=\"left\">count</th>\n",
       "    </tr>\n",
       "    <tr>\n",
       "      <th>day_of_week</th>\n",
       "      <th>0</th>\n",
       "      <th>1</th>\n",
       "      <th>2</th>\n",
       "      <th>3</th>\n",
       "      <th>4</th>\n",
       "      <th>5</th>\n",
       "      <th>6</th>\n",
       "    </tr>\n",
       "    <tr>\n",
       "      <th>member_casual</th>\n",
       "      <th></th>\n",
       "      <th></th>\n",
       "      <th></th>\n",
       "      <th></th>\n",
       "      <th></th>\n",
       "      <th></th>\n",
       "      <th></th>\n",
       "    </tr>\n",
       "  </thead>\n",
       "  <tbody>\n",
       "    <tr>\n",
       "      <td>casual</td>\n",
       "      <td>356</td>\n",
       "      <td>363</td>\n",
       "      <td>387</td>\n",
       "      <td>404</td>\n",
       "      <td>581</td>\n",
       "      <td>830</td>\n",
       "      <td>697</td>\n",
       "    </tr>\n",
       "    <tr>\n",
       "      <td>member</td>\n",
       "      <td>785</td>\n",
       "      <td>851</td>\n",
       "      <td>841</td>\n",
       "      <td>780</td>\n",
       "      <td>804</td>\n",
       "      <td>811</td>\n",
       "      <td>719</td>\n",
       "    </tr>\n",
       "  </tbody>\n",
       "</table>\n",
       "</div>"
      ],
      "text/plain": [
       "              count                              \n",
       "day_of_week       0    1    2    3    4    5    6\n",
       "member_casual                                    \n",
       "casual          356  363  387  404  581  830  697\n",
       "member          785  851  841  780  804  811  719"
      ]
     },
     "execution_count": 143,
     "metadata": {},
     "output_type": "execute_result"
    }
   ],
   "source": [
    "tabel2 =df.pivot_table(index = 'member_casual' , columns='day_of_week',values = 'ride_id', aggfunc=['count'])\n",
    "tabel2"
   ]
  },
  {
   "cell_type": "code",
   "execution_count": 145,
   "metadata": {},
   "outputs": [
    {
     "data": {
      "image/png": "[encoded data removed]",
      "text/plain": [
       "<Figure size 720x288 with 1 Axes>"
      ]
     },
     "metadata": {
      "needs_background": "light"
     },
     "output_type": "display_data"
    }
   ],
   "source": [
    "tabel2.plot(kind = 'bar' , figsize=(10,4))\n",
    "plt.title('member casual count rides on day')\n",
    "plt.legend(['Monday','Tuesday' , 'Wednesday' , 'Thursday', 'Friday','Saturday','Sunday'])\n",
    "plt.ylabel('count rides')\n",
    "plt.show()"
   ]
  },
  {
   "cell_type": "code",
   "execution_count": 147,
   "metadata": {},
   "outputs": [
    {
     "data": {
      "text/html": [
       "<div>\n",
       "<style scoped>\n",
       "    .dataframe tbody tr th:only-of-type {\n",
       "        vertical-align: middle;\n",
       "    }\n",
       "\n",
       "    .dataframe tbody tr th {\n",
       "        vertical-align: top;\n",
       "    }\n",
       "\n",
       "    .dataframe thead th {\n",
       "        text-align: right;\n",
       "    }\n",
       "</style>\n",
       "<table border=\"1\" class=\"dataframe\">\n",
       "  <thead>\n",
       "    <tr style=\"text-align: right;\">\n",
       "      <th></th>\n",
       "      <th>rideable_type</th>\n",
       "    </tr>\n",
       "  </thead>\n",
       "  <tbody>\n",
       "    <tr>\n",
       "      <td>docked_bike</td>\n",
       "      <td>5559</td>\n",
       "    </tr>\n",
       "    <tr>\n",
       "      <td>classic_bike</td>\n",
       "      <td>2363</td>\n",
       "    </tr>\n",
       "    <tr>\n",
       "      <td>electric_bike</td>\n",
       "      <td>1287</td>\n",
       "    </tr>\n",
       "  </tbody>\n",
       "</table>\n",
       "</div>"
      ],
      "text/plain": [
       "               rideable_type\n",
       "docked_bike             5559\n",
       "classic_bike            2363\n",
       "electric_bike           1287"
      ]
     },
     "execution_count": 147,
     "metadata": {},
     "output_type": "execute_result"
    }
   ],
   "source": [
    "rideable_type_count=df['rideable_type'].value_counts()\n",
    "rideable_type_counts = pd.DataFrame(rideable_type_count)\n",
    "rideable_type_counts"
   ]
  },
  {
   "cell_type": "code",
   "execution_count": 150,
   "metadata": {},
   "outputs": [
    {
     "data": {
      "image/png": "[encoded data removed]",
      "text/plain": [
       "<Figure size 432x288 with 1 Axes>"
      ]
     },
     "metadata": {},
     "output_type": "display_data"
    }
   ],
   "source": [
    "plt.pie(rideable_type_counts.rideable_type ,labels = rideable_type_counts.index  , explode=[0,0,0.1])\n",
    "plt.title('rideable_type_counts')\n",
    "plt.show()"
   ]
  },
  {
   "cell_type": "code",
   "execution_count": 161,
   "metadata": {},
   "outputs": [
    {
     "data": {
      "text/html": [
       "<div>\n",
       "<style scoped>\n",
       "    .dataframe tbody tr th:only-of-type {\n",
       "        vertical-align: middle;\n",
       "    }\n",
       "\n",
       "    .dataframe tbody tr th {\n",
       "        vertical-align: top;\n",
       "    }\n",
       "\n",
       "    .dataframe thead th {\n",
       "        text-align: right;\n",
       "    }\n",
       "</style>\n",
       "<table border=\"1\" class=\"dataframe\">\n",
       "  <thead>\n",
       "    <tr style=\"text-align: right;\">\n",
       "      <th></th>\n",
       "      <th></th>\n",
       "      <th>rideable_type</th>\n",
       "    </tr>\n",
       "    <tr>\n",
       "      <th>member_casual</th>\n",
       "      <th>rideable_type</th>\n",
       "      <th></th>\n",
       "    </tr>\n",
       "  </thead>\n",
       "  <tbody>\n",
       "    <tr>\n",
       "      <td rowspan=\"3\" valign=\"top\">casual</td>\n",
       "      <td>classic_bike</td>\n",
       "      <td>793</td>\n",
       "    </tr>\n",
       "    <tr>\n",
       "      <td>docked_bike</td>\n",
       "      <td>2266</td>\n",
       "    </tr>\n",
       "    <tr>\n",
       "      <td>electric_bike</td>\n",
       "      <td>559</td>\n",
       "    </tr>\n",
       "    <tr>\n",
       "      <td rowspan=\"3\" valign=\"top\">member</td>\n",
       "      <td>classic_bike</td>\n",
       "      <td>1570</td>\n",
       "    </tr>\n",
       "    <tr>\n",
       "      <td>docked_bike</td>\n",
       "      <td>3293</td>\n",
       "    </tr>\n",
       "    <tr>\n",
       "      <td>electric_bike</td>\n",
       "      <td>728</td>\n",
       "    </tr>\n",
       "  </tbody>\n",
       "</table>\n",
       "</div>"
      ],
      "text/plain": [
       "                             rideable_type\n",
       "member_casual rideable_type               \n",
       "casual        classic_bike             793\n",
       "              docked_bike             2266\n",
       "              electric_bike            559\n",
       "member        classic_bike            1570\n",
       "              docked_bike             3293\n",
       "              electric_bike            728"
      ]
     },
     "execution_count": 161,
     "metadata": {},
     "output_type": "execute_result"
    }
   ],
   "source": [
    "tabel3 =member_casual_average_ride_length = df.groupby(['member_casual','rideable_type'])['rideable_type'].count()\n",
    "member_casual_count_rideable_type = pd.DataFrame(tabel3)\n",
    "member_casual_count_rideable_type"
   ]
  },
  {
   "cell_type": "code",
   "execution_count": 164,
   "metadata": {},
   "outputs": [
    {
     "data": {
      "image/png": "[encoded data removed]",
      "text/plain": [
       "<Figure size 720x288 with 1 Axes>"
      ]
     },
     "metadata": {
      "needs_background": "light"
     },
     "output_type": "display_data"
    }
   ],
   "source": [
    "#member_casual_count_rideable_type.plot(kind = 'bar' , figsize=(10,4))\n",
    "sns.barplot(data=member_casual_count_rideable_type,x=member_casual_count_rideable_type.index , y= member_casual_count_rideable_type.rideable_type)\n",
    "plt.xticks(rotation=90)\n",
    "plt.title('member_casual_count_rideable_type')\n",
    "plt.legend(['classic_bike','docked_bike' , 'electric_bike'])\n",
    "plt.ylabel('ount_rideable_type')\n",
    "plt.show()"
   ]
  },
  {
   "cell_type": "code",
   "execution_count": 174,
   "metadata": {},
   "outputs": [
    {
     "data": {
      "text/html": [
       "<div>\n",
       "<style scoped>\n",
       "    .dataframe tbody tr th:only-of-type {\n",
       "        vertical-align: middle;\n",
       "    }\n",
       "\n",
       "    .dataframe tbody tr th {\n",
       "        vertical-align: top;\n",
       "    }\n",
       "\n",
       "    .dataframe thead th {\n",
       "        text-align: right;\n",
       "    }\n",
       "</style>\n",
       "<table border=\"1\" class=\"dataframe\">\n",
       "  <thead>\n",
       "    <tr style=\"text-align: right;\">\n",
       "      <th></th>\n",
       "      <th>start_station_name</th>\n",
       "    </tr>\n",
       "  </thead>\n",
       "  <tbody>\n",
       "    <tr>\n",
       "      <td>Streeter Dr &amp; Grand Ave</td>\n",
       "      <td>126</td>\n",
       "    </tr>\n",
       "    <tr>\n",
       "      <td>Lake Shore Dr &amp; North Blvd</td>\n",
       "      <td>96</td>\n",
       "    </tr>\n",
       "    <tr>\n",
       "      <td>Theater on the Lake</td>\n",
       "      <td>92</td>\n",
       "    </tr>\n",
       "    <tr>\n",
       "      <td>Clark St &amp; Elm St</td>\n",
       "      <td>86</td>\n",
       "    </tr>\n",
       "    <tr>\n",
       "      <td>Lake Shore Dr &amp; Monroe St</td>\n",
       "      <td>78</td>\n",
       "    </tr>\n",
       "    <tr>\n",
       "      <td>...</td>\n",
       "      <td>...</td>\n",
       "    </tr>\n",
       "    <tr>\n",
       "      <td>Damen Ave &amp; 59th St</td>\n",
       "      <td>1</td>\n",
       "    </tr>\n",
       "    <tr>\n",
       "      <td>Evanston Civic Center</td>\n",
       "      <td>1</td>\n",
       "    </tr>\n",
       "    <tr>\n",
       "      <td>Ashland Ave &amp; Pershing Rd</td>\n",
       "      <td>1</td>\n",
       "    </tr>\n",
       "    <tr>\n",
       "      <td>Fairfield Ave &amp; Roosevelt Rd</td>\n",
       "      <td>1</td>\n",
       "    </tr>\n",
       "    <tr>\n",
       "      <td>Stony Island Ave &amp; South Chicago Ave</td>\n",
       "      <td>1</td>\n",
       "    </tr>\n",
       "  </tbody>\n",
       "</table>\n",
       "<p>559 rows × 1 columns</p>\n",
       "</div>"
      ],
      "text/plain": [
       "                                      start_station_name\n",
       "Streeter Dr & Grand Ave                              126\n",
       "Lake Shore Dr & North Blvd                            96\n",
       "Theater on the Lake                                   92\n",
       "Clark St & Elm St                                     86\n",
       "Lake Shore Dr & Monroe St                             78\n",
       "...                                                  ...\n",
       "Damen Ave & 59th St                                    1\n",
       "Evanston Civic Center                                  1\n",
       "Ashland Ave & Pershing Rd                              1\n",
       "Fairfield Ave & Roosevelt Rd                           1\n",
       "Stony Island Ave & South Chicago Ave                   1\n",
       "\n",
       "[559 rows x 1 columns]"
      ]
     },
     "execution_count": 174,
     "metadata": {},
     "output_type": "execute_result"
    }
   ],
   "source": [
    "start_station_name_count=df['start_station_name'].value_counts().sort_values(ascending = False)\n",
    "start_station_name_counts = pd.DataFrame(start_station_name_count)\n",
    "start_station_name_counts"
   ]
  },
  {
   "cell_type": "code",
   "execution_count": 175,
   "metadata": {},
   "outputs": [
    {
     "data": {
      "image/png": "[encoded data removed]",
      "text/plain": [
       "<Figure size 432x288 with 1 Axes>"
      ]
     },
     "metadata": {},
     "output_type": "display_data"
    }
   ],
   "source": [
    "plt.pie(start_station_name_counts.head(5).start_station_name ,labels = start_station_name_counts.head(5).index)\n",
    "plt.title('most 5 start_station_name')\n",
    "plt.show()"
   ]
  },
  {
   "cell_type": "code",
   "execution_count": 176,
   "metadata": {},
   "outputs": [
    {
     "data": {
      "text/html": [
       "<div>\n",
       "<style scoped>\n",
       "    .dataframe tbody tr th:only-of-type {\n",
       "        vertical-align: middle;\n",
       "    }\n",
       "\n",
       "    .dataframe tbody tr th {\n",
       "        vertical-align: top;\n",
       "    }\n",
       "\n",
       "    .dataframe thead th {\n",
       "        text-align: right;\n",
       "    }\n",
       "</style>\n",
       "<table border=\"1\" class=\"dataframe\">\n",
       "  <thead>\n",
       "    <tr style=\"text-align: right;\">\n",
       "      <th></th>\n",
       "      <th>end_station_name</th>\n",
       "    </tr>\n",
       "  </thead>\n",
       "  <tbody>\n",
       "    <tr>\n",
       "      <td>Streeter Dr &amp; Grand Ave</td>\n",
       "      <td>123</td>\n",
       "    </tr>\n",
       "    <tr>\n",
       "      <td>Millennium Park</td>\n",
       "      <td>89</td>\n",
       "    </tr>\n",
       "    <tr>\n",
       "      <td>Clark St &amp; Elm St</td>\n",
       "      <td>81</td>\n",
       "    </tr>\n",
       "    <tr>\n",
       "      <td>Broadway &amp; Barry Ave</td>\n",
       "      <td>81</td>\n",
       "    </tr>\n",
       "    <tr>\n",
       "      <td>Wells St &amp; Concord Ln</td>\n",
       "      <td>80</td>\n",
       "    </tr>\n",
       "    <tr>\n",
       "      <td>...</td>\n",
       "      <td>...</td>\n",
       "    </tr>\n",
       "    <tr>\n",
       "      <td>Wentworth Ave &amp; 63rd St</td>\n",
       "      <td>1</td>\n",
       "    </tr>\n",
       "    <tr>\n",
       "      <td>Malcolm X College</td>\n",
       "      <td>1</td>\n",
       "    </tr>\n",
       "    <tr>\n",
       "      <td>California Ave &amp; Lake St</td>\n",
       "      <td>1</td>\n",
       "    </tr>\n",
       "    <tr>\n",
       "      <td>Eggleston Ave &amp; 69th St (*)</td>\n",
       "      <td>1</td>\n",
       "    </tr>\n",
       "    <tr>\n",
       "      <td>N Green St &amp; W Lake St</td>\n",
       "      <td>1</td>\n",
       "    </tr>\n",
       "  </tbody>\n",
       "</table>\n",
       "<p>565 rows × 1 columns</p>\n",
       "</div>"
      ],
      "text/plain": [
       "                             end_station_name\n",
       "Streeter Dr & Grand Ave                   123\n",
       "Millennium Park                            89\n",
       "Clark St & Elm St                          81\n",
       "Broadway & Barry Ave                       81\n",
       "Wells St & Concord Ln                      80\n",
       "...                                       ...\n",
       "Wentworth Ave & 63rd St                     1\n",
       "Malcolm X College                           1\n",
       "California Ave & Lake St                    1\n",
       "Eggleston Ave & 69th St (*)                 1\n",
       "N Green St & W Lake St                      1\n",
       "\n",
       "[565 rows x 1 columns]"
      ]
     },
     "execution_count": 176,
     "metadata": {},
     "output_type": "execute_result"
    }
   ],
   "source": [
    "end_station_name_count=df['end_station_name'].value_counts().sort_values(ascending = False)\n",
    "end_station_name_counts = pd.DataFrame(end_station_name_count)\n",
    "end_station_name_counts"
   ]
  },
  {
   "cell_type": "code",
   "execution_count": 178,
   "metadata": {},
   "outputs": [
    {
     "data": {
      "image/png": "[encoded data removed]",
      "text/plain": [
       "<Figure size 432x288 with 1 Axes>"
      ]
     },
     "metadata": {},
     "output_type": "display_data"
    }
   ],
   "source": [
    "plt.pie(end_station_name_counts.head(5).end_station_name ,labels = end_station_name_counts.head(5).index)\n",
    "plt.title('most 5 end_station_name')\n",
    "plt.show()"
   ]
  },
  {
   "cell_type": "code",
   "execution_count": null,
   "metadata": {},
   "outputs": [],
   "source": []
  },
  {
   "cell_type": "code",
   "execution_count": 179,
   "metadata": {},
   "outputs": [],
   "source": [
    "df_member = df[df['member_casual']=='member']\n",
    "df_casual = df[df['member_casual']=='casual']"
   ]
  },
  {
   "cell_type": "code",
   "execution_count": null,
   "metadata": {},
   "outputs": [],
   "source": []
  },
  {
   "cell_type": "markdown",
   "metadata": {},
   "source": [
    "# Why would casual riders buy Cyclistic annual memberships"
   ]
  },
  {
   "cell_type": "markdown",
   "metadata": {},
   "source": [
    "This depends on the number of trips a day the user makes during the week. The more trips the user has, the faster he becomes a member"
   ]
  },
  {
   "cell_type": "markdown",
   "metadata": {},
   "source": [
    "# How can Cyclistic use digital media to influence casual riders to become members"
   ]
  },
  {
   "cell_type": "markdown",
   "metadata": {},
   "source": [
    "Yes, if we could know the number of weekly trips for each person, we could target him through advertisements and offers until he becomes a member"
   ]
  },
  {
   "cell_type": "code",
   "execution_count": 165,
   "metadata": {},
   "outputs": [],
   "source": [
    "df.to_csv('finalUpdate_tripdata_new.csv')"
   ]
  },
  {
   "cell_type": "code",
   "execution_count": null,
   "metadata": {},
   "outputs": [],
   "source": []
  }
 ],
 "metadata": {
  "kernelspec": {
   "display_name": "Python 3",
   "language": "python",
   "name": "python3"
  },
  "language_info": {
   "codemirror_mode": {
    "name": "ipython",
    "version": 3
   },
   "file_extension": ".py",
   "mimetype": "text/x-python",
   "name": "python",
   "nbconvert_exporter": "python",
   "pygments_lexer": "ipython3",
   "version": "3.7.4"
  }
 },
 "nbformat": 4,
 "nbformat_minor": 2
}
